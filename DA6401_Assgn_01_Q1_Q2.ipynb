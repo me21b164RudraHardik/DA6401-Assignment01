{
  "nbformat": 4,
  "nbformat_minor": 0,
  "metadata": {
    "colab": {
      "provenance": []
    },
    "kernelspec": {
      "name": "python3",
      "display_name": "Python 3"
    },
    "language_info": {
      "name": "python"
    }
  },
  "cells": [
    {
      "cell_type": "markdown",
      "source": [
        "Question 1"
      ],
      "metadata": {
        "id": "ECwKZw5QCSFm"
      }
    },
    {
      "cell_type": "code",
      "source": [
        "#importing libraries\n",
        "import numpy as np\n",
        "import pandas as pd\n",
        "from tensorflow.keras.datasets import mnist, fashion_mnist\n",
        "import matplotlib.pyplot as plt\n",
        "from sklearn.model_selection import train_test_split\n",
        "from sklearn.metrics import accuracy_score"
      ],
      "metadata": {
        "id": "cVVfPqOU2EEu"
      },
      "execution_count": null,
      "outputs": []
    },
    {
      "cell_type": "code",
      "source": [
        "#configuring wandb\n",
        "%pip install wandb -q\n",
        "import wandb\n",
        "wandb.login()"
      ],
      "metadata": {
        "colab": {
          "base_uri": "https://localhost:8080/"
        },
        "id": "Pf6azg8H2SC3",
        "outputId": "289822a3-6b94-49ba-f98a-4bd812514fea"
      },
      "execution_count": null,
      "outputs": [
        {
          "output_type": "stream",
          "name": "stderr",
          "text": [
            "\u001b[34m\u001b[1mwandb\u001b[0m: Using wandb-core as the SDK backend.  Please refer to https://wandb.me/wandb-core for more information.\n",
            "\u001b[34m\u001b[1mwandb\u001b[0m: Currently logged in as: \u001b[33mme21b164\u001b[0m (\u001b[33mme21b164-indian-institute-of-technology-madras\u001b[0m) to \u001b[32mhttps://api.wandb.ai\u001b[0m. Use \u001b[1m`wandb login --relogin`\u001b[0m to force relogin\n"
          ]
        },
        {
          "output_type": "execute_result",
          "data": {
            "text/plain": [
              "True"
            ]
          },
          "metadata": {},
          "execution_count": 2
        }
      ]
    },
    {
      "cell_type": "code",
      "source": [
        "def prepare_dataset():\n",
        "    \"\"\"\n",
        "    Prepares the Fashion MNIST dataset by performing the following steps:\n",
        "    - Loads the dataset\n",
        "    - Reshapes images into 1D vectors\n",
        "    - Normalizes pixel values to [0,1]\n",
        "    - Splits the training set into training and validation sets (90% train, 10% val)\n",
        "    - Performs one-hot encoding of labels\n",
        "\n",
        "    Returns:\n",
        "        X_train.T, y_train_encoded, y_train.T, X_val.T, y_val.T, X_test.T, y_test.T, y_val_encoded\n",
        "    \"\"\"\n",
        "    # Load the dataset\n",
        "    (X, y), (X_test, y_test) = fashion_mnist.load_data()\n",
        "\n",
        "    # Reshape images into 1D vectors\n",
        "    X = X.reshape(X.shape[0], -1)\n",
        "    X_test = X_test.reshape(X_test.shape[0], -1)\n",
        "\n",
        "    # Normalize pixel values to [0,1]\n",
        "    X = X / 255.0\n",
        "    X_test = X_test / 255.0\n",
        "\n",
        "    # Split training data into train and validation sets (90% train, 10% val)\n",
        "    X_train, X_val, y_train, y_val = train_test_split(X, y, test_size=0.1, random_state=42)\n",
        "\n",
        "    # One-hot encoding for training labels\n",
        "    y_train_encoded = np.zeros((10, y_train.shape[0]))\n",
        "    y_train_encoded[y_train, np.arange(y_train.shape[0])] = 1\n",
        "\n",
        "    # One-hot encoding for validation labels\n",
        "    y_val_encoded = np.zeros((10, y_val.shape[0]))\n",
        "    y_val_encoded[y_val, np.arange(y_val.shape[0])] = 1\n",
        "\n",
        "    # Print dataset shapes for verification\n",
        "    print(\"Number of examples in training set:\")\n",
        "    print(\"X_train:\", X_train.shape)\n",
        "    print(\"y_train_encoded:\", y_train_encoded.shape)\n",
        "    print(\"y_train:\", y_train.shape)\n",
        "\n",
        "    print(\"Number of examples in validation set:\")\n",
        "    print(\"X_val:\", X_val.shape)\n",
        "    print(\"y_val:\", y_val.shape)\n",
        "\n",
        "    print(\"Number of examples in test set:\")\n",
        "    print(\"X_test:\", X_test.shape)\n",
        "    print(\"y_test:\", y_test.shape)\n",
        "\n",
        "    return X_train.T, y_train_encoded, y_train.T, X_val.T, y_val.T, X_test.T, y_test.T, y_val_encoded\n",
        "\n",
        "# Prepare the dataset\n",
        "X_train, y_train_encoded, y_train, X_val, y_val, X_test, y_test, y_val_encoded = prepare_dataset()\n",
        "\n",
        "# Define class names for Fashion MNIST dataset\n",
        "num_classes = 10\n",
        "class_names = ['T-shirt/top', 'Trouser', 'Pullover', 'Dress', 'Coat',\n",
        "               'Sandal', 'Shirt', 'Sneaker', 'Bag', 'Ankle boot']"
      ],
      "metadata": {
        "colab": {
          "base_uri": "https://localhost:8080/"
        },
        "id": "twTae5muBAk1",
        "outputId": "ce4ee8d9-9e28-45ae-ad64-a9563bbee580"
      },
      "execution_count": null,
      "outputs": [
        {
          "output_type": "stream",
          "name": "stdout",
          "text": [
            "Number of examples in training set:\n",
            "X_train: (54000, 784)\n",
            "y_train_encoded: (10, 54000)\n",
            "y_train: (54000,)\n",
            "Number of examples in validation set:\n",
            "X_val: (6000, 784)\n",
            "y_val: (6000,)\n",
            "Number of examples in test set:\n",
            "X_test: (10000, 784)\n",
            "y_test: (10000,)\n"
          ]
        }
      ]
    },
    {
      "cell_type": "code",
      "source": [
        "# Initialize Weights & Biases (WandB) for logging\n",
        "wandb.init(project=\"DA6401 ASSIGNMENT 01\", entity=\"me21b164-indian-institute-of-technology-madras\", name=\"Question 1\")\n",
        "\n",
        "# Select one sample per class for logging\n",
        "indices = [list(y_train.T).index(i) for i in range(num_classes)]\n",
        "images = [X_train.T[index].reshape((28, 28)) for index in indices]\n",
        "captions = [class_names[y_train.T[index]] for index in indices]\n",
        "\n",
        "# Create an array of images where one image per class is appended\n",
        "ig = []\n",
        "for i in range(num_classes):\n",
        "    for j in range(len(y_train.T)):\n",
        "        if y_train.T[j] == i:\n",
        "            ig.append(X_train.T[j].reshape((28, 28)))\n",
        "            break\n",
        "\n",
        "# Plot the images\n",
        "plt.figure(figsize=(10, 5))\n",
        "for i in range(len(ig)):\n",
        "    plt.subplot(2, 5, i + 1)\n",
        "    plt.imshow(ig[i], cmap='gray')\n",
        "    plt.title(class_names[i])\n",
        "    plt.axis(\"off\")\n",
        "plt.show()\n",
        "\n",
        "# Log one sample image per class to WandB\n",
        "wandb.run.name = \"Question-1\"\n",
        "wandb.log({\"Images from each class\": [wandb.Image(img, caption=cap) for img, cap in zip(ig, class_names)]})\n",
        "wandb.finish()"
      ],
      "metadata": {
        "colab": {
          "base_uri": "https://localhost:8080/",
          "height": 558
        },
        "id": "x2X05ilp5iFJ",
        "outputId": "76587a57-3ddb-46b3-e698-01cc0b053bf3"
      },
      "execution_count": null,
      "outputs": [
        {
          "output_type": "display_data",
          "data": {
            "text/plain": [
              "<IPython.core.display.HTML object>"
            ],
            "text/html": [
              "Tracking run with wandb version 0.19.7"
            ]
          },
          "metadata": {}
        },
        {
          "output_type": "display_data",
          "data": {
            "text/plain": [
              "<IPython.core.display.HTML object>"
            ],
            "text/html": [
              "Run data is saved locally in <code>/content/wandb/run-20250309_204300-hyyjn9jw</code>"
            ]
          },
          "metadata": {}
        },
        {
          "output_type": "display_data",
          "data": {
            "text/plain": [
              "<IPython.core.display.HTML object>"
            ],
            "text/html": [
              "Syncing run <strong><a href='https://wandb.ai/me21b164-indian-institute-of-technology-madras/DA6401%20ASSIGNMENT%2001/runs/hyyjn9jw' target=\"_blank\">Question 1</a></strong> to <a href='https://wandb.ai/me21b164-indian-institute-of-technology-madras/DA6401%20ASSIGNMENT%2001' target=\"_blank\">Weights & Biases</a> (<a href='https://wandb.me/developer-guide' target=\"_blank\">docs</a>)<br>"
            ]
          },
          "metadata": {}
        },
        {
          "output_type": "display_data",
          "data": {
            "text/plain": [
              "<IPython.core.display.HTML object>"
            ],
            "text/html": [
              " View project at <a href='https://wandb.ai/me21b164-indian-institute-of-technology-madras/DA6401%20ASSIGNMENT%2001' target=\"_blank\">https://wandb.ai/me21b164-indian-institute-of-technology-madras/DA6401%20ASSIGNMENT%2001</a>"
            ]
          },
          "metadata": {}
        },
        {
          "output_type": "display_data",
          "data": {
            "text/plain": [
              "<IPython.core.display.HTML object>"
            ],
            "text/html": [
              " View run at <a href='https://wandb.ai/me21b164-indian-institute-of-technology-madras/DA6401%20ASSIGNMENT%2001/runs/hyyjn9jw' target=\"_blank\">https://wandb.ai/me21b164-indian-institute-of-technology-madras/DA6401%20ASSIGNMENT%2001/runs/hyyjn9jw</a>"
            ]
          },
          "metadata": {}
        },
        {
          "output_type": "display_data",
          "data": {
            "text/plain": [
              "<Figure size 1000x500 with 10 Axes>"
            ],
            "image/png": "[encoded data removed]"
          },
          "metadata": {}
        },
        {
          "output_type": "display_data",
          "data": {
            "text/plain": [
              "<IPython.core.display.HTML object>"
            ],
            "text/html": []
          },
          "metadata": {}
        },
        {
          "output_type": "display_data",
          "data": {
            "text/plain": [
              "<IPython.core.display.HTML object>"
            ],
            "text/html": [
              " View run <strong style=\"color:#cdcd00\">Question-1</strong> at: <a href='https://wandb.ai/me21b164-indian-institute-of-technology-madras/DA6401%20ASSIGNMENT%2001/runs/hyyjn9jw' target=\"_blank\">https://wandb.ai/me21b164-indian-institute-of-technology-madras/DA6401%20ASSIGNMENT%2001/runs/hyyjn9jw</a><br> View project at: <a href='https://wandb.ai/me21b164-indian-institute-of-technology-madras/DA6401%20ASSIGNMENT%2001' target=\"_blank\">https://wandb.ai/me21b164-indian-institute-of-technology-madras/DA6401%20ASSIGNMENT%2001</a><br>Synced 5 W&B file(s), 10 media file(s), 0 artifact file(s) and 0 other file(s)"
            ]
          },
          "metadata": {}
        },
        {
          "output_type": "display_data",
          "data": {
            "text/plain": [
              "<IPython.core.display.HTML object>"
            ],
            "text/html": [
              "Find logs at: <code>./wandb/run-20250309_204300-hyyjn9jw/logs</code>"
            ]
          },
          "metadata": {}
        }
      ]
    },
    {
      "cell_type": "markdown",
      "source": [
        "**Question 2**"
      ],
      "metadata": {
        "id": "pv5pqIBJBjhi"
      }
    },
    {
      "cell_type": "code",
      "source": [
        "# Initialize Weights & Biases (W&B)\n",
        "# Activation Functions\n",
        "wandb.init(project=\"DA6401 ASSIGNMENT 01\", entity=\"me21b164-indian-institute-of-technology-madras\", name=\"Question 2\")\n",
        "\n",
        "def relu(x):\n",
        "    return np.maximum(0, x)\n",
        "\n",
        "def sigmoid(x):\n",
        "    return 1 / (1 + np.exp(-x))\n",
        "\n",
        "def softmax(x):\n",
        "    exp_x = np.exp(x - np.max(x))  # Stability trick\n",
        "    return exp_x / np.sum(exp_x)\n",
        "\n",
        "# Initialization Functions\n",
        "\n",
        "def initialize_weights(layer_sizes, init_method=\"he\"):\n",
        "    weights, biases = [], []\n",
        "    for i in range(len(layer_sizes) - 1):\n",
        "        input_dim, output_dim = layer_sizes[i], layer_sizes[i + 1]\n",
        "        if init_method == \"he\":\n",
        "            weights.append(np.random.randn(output_dim, input_dim) * np.sqrt(2. / input_dim))  # He initialization\n",
        "        elif init_method == \"xavier\":\n",
        "            weights.append(np.random.randn(output_dim, input_dim) * np.sqrt(1. / input_dim))  # Xavier for Sigmoid\n",
        "        biases.append(np.zeros(output_dim))\n",
        "    return weights, biases\n",
        "\n",
        "# Feedforward Network\n",
        "\n",
        "def forward_pass(x, weights, biases, activation=\"relu\"):\n",
        "    activations = []\n",
        "    inputs = x\n",
        "    for i in range(len(weights) - 1):  # Hidden layers\n",
        "        z = np.dot(weights[i], inputs) + biases[i]\n",
        "        if activation == \"relu\":\n",
        "            inputs = relu(z)\n",
        "        elif activation == \"sigmoid\":\n",
        "            inputs = sigmoid(z)\n",
        "        activations.append(inputs)\n",
        "\n",
        "    # Output layer (Softmax)\n",
        "    z = np.dot(weights[-1], inputs) + biases[-1]\n",
        "    output = softmax(z)\n",
        "    activations.append(output)\n",
        "\n",
        "    return output, activations\n",
        "\n",
        "# Evaluation Functions\n",
        "\n",
        "def compute_loss(y_pred, y_true):\n",
        "    return -np.sum(y_true * np.log(y_pred + 1e-9))  # Cross-Entropy Loss\n",
        "\n",
        "def compute_accuracy(y_preds, y_trues):\n",
        "    correct = sum(np.argmax(y_pred) == np.argmax(y_true) for y_pred, y_true in zip(y_preds, y_trues))\n",
        "    return correct / len(y_trues)\n",
        "\n",
        "# Data Loading and Preprocessing\n",
        "\n",
        "def preprocess_fashion_mnist():\n",
        "    (x_train, y_train), (x_test, y_test) = fashion_mnist.load_data()\n",
        "    x_train, x_test = x_train.reshape(-1, 784) / 255.0, x_test.reshape(-1, 784) / 255.0\n",
        "    y_train, y_test = np.eye(10)[y_train], np.eye(10)[y_test]  # One-hot encoding\n",
        "    return x_train, y_train, x_test, y_test\n",
        "\n",
        "# Sample Run\n",
        "\n",
        "# Define network architecture\n",
        "hidden_layers = [128, 64]\n",
        "layer_sizes = [784] + hidden_layers + [10]\n",
        "\n",
        "# Choose activation function for hidden layers: \"relu\" or \"sigmoid\"\n",
        "hidden_activation = \"sigmoid\"  # Change to \"relu\" if needed\n",
        "\n",
        "# Select weight initialization based on activation function\n",
        "init_method = \"xavier\" if hidden_activation == \"sigmoid\" else \"he\"\n",
        "\n",
        "# Initialize weights and biases\n",
        "weights, biases = initialize_weights(layer_sizes, init_method=init_method)\n",
        "\n",
        "# Load and preprocess Fashion-MNIST data\n",
        "x_train, y_train, x_test, y_test = preprocess_fashion_mnist()\n",
        "\n",
        "# Perform forward pass on 10 test images\n",
        "sample_x, sample_y = x_test[:10], y_test[:10]\n",
        "predictions = [forward_pass(x, weights, biases, activation=hidden_activation)[0] for x in sample_x]\n",
        "\n",
        "# Compute accuracy and loss\n",
        "accuracy = compute_accuracy(predictions, sample_y)\n",
        "loss = np.mean([compute_loss(y_pred, y_true) for y_pred, y_true in zip(predictions, sample_y)])\n",
        "\n",
        "# Log results to Weights & Biases (W&B)\n",
        "wandb.log({\"Sample Accuracy\": accuracy, \"Sample Loss\": loss})\n",
        "\n",
        "# Print results\n",
        "print(f\"Sample Accuracy: {accuracy * 100:.2f}%\")\n",
        "print(f\"Sample Loss: {loss:.4f}\")\n"
      ],
      "metadata": {
        "id": "0DFPz9EIBjGS",
        "colab": {
          "base_uri": "https://localhost:8080/",
          "height": 138
        },
        "outputId": "72694d20-4b86-483f-8989-8004f7818714"
      },
      "execution_count": null,
      "outputs": [
        {
          "output_type": "display_data",
          "data": {
            "text/plain": [
              "<IPython.core.display.HTML object>"
            ],
            "text/html": [
              "Tracking run with wandb version 0.19.7"
            ]
          },
          "metadata": {}
        },
        {
          "output_type": "display_data",
          "data": {
            "text/plain": [
              "<IPython.core.display.HTML object>"
            ],
            "text/html": [
              "Run data is saved locally in <code>/content/wandb/run-20250309_204303-16ya1u49</code>"
            ]
          },
          "metadata": {}
        },
        {
          "output_type": "display_data",
          "data": {
            "text/plain": [
              "<IPython.core.display.HTML object>"
            ],
            "text/html": [
              "Syncing run <strong><a href='https://wandb.ai/me21b164-indian-institute-of-technology-madras/DA6401%20ASSIGNMENT%2001/runs/16ya1u49' target=\"_blank\">Question 2</a></strong> to <a href='https://wandb.ai/me21b164-indian-institute-of-technology-madras/DA6401%20ASSIGNMENT%2001' target=\"_blank\">Weights & Biases</a> (<a href='https://wandb.me/developer-guide' target=\"_blank\">docs</a>)<br>"
            ]
          },
          "metadata": {}
        },
        {
          "output_type": "display_data",
          "data": {
            "text/plain": [
              "<IPython.core.display.HTML object>"
            ],
            "text/html": [
              " View project at <a href='https://wandb.ai/me21b164-indian-institute-of-technology-madras/DA6401%20ASSIGNMENT%2001' target=\"_blank\">https://wandb.ai/me21b164-indian-institute-of-technology-madras/DA6401%20ASSIGNMENT%2001</a>"
            ]
          },
          "metadata": {}
        },
        {
          "output_type": "display_data",
          "data": {
            "text/plain": [
              "<IPython.core.display.HTML object>"
            ],
            "text/html": [
              " View run at <a href='https://wandb.ai/me21b164-indian-institute-of-technology-madras/DA6401%20ASSIGNMENT%2001/runs/16ya1u49' target=\"_blank\">https://wandb.ai/me21b164-indian-institute-of-technology-madras/DA6401%20ASSIGNMENT%2001/runs/16ya1u49</a>"
            ]
          },
          "metadata": {}
        },
        {
          "output_type": "stream",
          "name": "stdout",
          "text": [
            "Sample Accuracy: 10.00%\n",
            "Sample Loss: 2.4500\n"
          ]
        }
      ]
    }
  ]
}